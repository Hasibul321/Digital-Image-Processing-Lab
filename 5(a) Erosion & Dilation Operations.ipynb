{
 "cells": [
  {
   "cell_type": "markdown",
   "metadata": {},
   "source": [
    "### Importing the Libraries"
   ]
  },
  {
   "cell_type": "code",
   "execution_count": 1,
   "metadata": {},
   "outputs": [],
   "source": [
    "import cv2\n",
    "import numpy as np\n",
    "import matplotlib.pyplot as plt"
   ]
  },
  {
   "cell_type": "markdown",
   "metadata": {},
   "source": [
    "### Function for Erosion"
   ]
  },
  {
   "cell_type": "code",
   "execution_count": null,
   "metadata": {},
   "outputs": [],
   "source": [
    "def erosion(image, mask):\n",
    "    image /= 255\n",
    "    new_image = []\n",
    "    offset = mask // 2\n",
    "    height, width = image.shape\n",
    "\n",
    "    for r in range(height):\n",
    "        temp_row = []\n",
    "        for c in range(width):\n",
    "            mark = True\n",
    "            for x in range(-offset, offset + 1):\n",
    "                for y in range(-offset, offset + 1):\n",
    "                    if (image[r + x, c + y] == 1 and image[r + x, c + y] != mask[r + x, c + y]):\n",
    "                        mark = False\n",
    "            pixel = 0\n",
    "            pixel = 1 if mark else pixel\n",
    "            temp_row.append(pixel)\n",
    "        new_image.append(temp_row)\n",
    "\n",
    "    return np.uint8(new_image)"
   ]
  }
 ],
 "metadata": {
  "kernelspec": {
   "display_name": "Python 3",
   "language": "python",
   "name": "python3"
  },
  "language_info": {
   "codemirror_mode": {
    "name": "ipython",
    "version": 3
   },
   "file_extension": ".py",
   "mimetype": "text/x-python",
   "name": "python",
   "nbconvert_exporter": "python",
   "pygments_lexer": "ipython3",
   "version": "3.9.13"
  }
 },
 "nbformat": 4,
 "nbformat_minor": 2
}
