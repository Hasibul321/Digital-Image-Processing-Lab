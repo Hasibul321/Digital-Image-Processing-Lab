{
 "cells": [
  {
   "cell_type": "markdown",
   "metadata": {},
   "source": [
    "### Importing the Libraries"
   ]
  },
  {
   "cell_type": "code",
   "execution_count": 2,
   "metadata": {},
   "outputs": [],
   "source": [
    "import cv2\n",
    "import numpy as np\n",
    "import matplotlib.pyplot as plt"
   ]
  },
  {
   "cell_type": "markdown",
   "metadata": {},
   "source": [
    "### Function for Erosion"
   ]
  },
  {
   "cell_type": "code",
   "execution_count": 3,
   "metadata": {},
   "outputs": [],
   "source": [
    "def apply_erosion_operation(image, structuring_element):\n",
    "    eroded_image = []\n",
    "    image //= 255\n",
    "    offset = structuring_element.shape[1] // 2\n",
    "    height, width = image.shape\n",
    "\n",
    "    for r in range(height):\n",
    "        nth_row = []\n",
    "        for c in range(width):\n",
    "            fit = True\n",
    "            for x in range(-offset, offset + 1):\n",
    "                for y in range(-offset, offset + 1):\n",
    "                    if (r + x >= 0 and r + x < height and c + y >= 0 and c + y < width):\n",
    "                        if (structuring_element[x, y] == 1 and image[r + x, c + y] != structuring_element[x, y]):\n",
    "                            fit = False\n",
    "            pixel = 1 if fit else 0\n",
    "            nth_row.append(pixel)\n",
    "        eroded_image.append(nth_row)\n",
    "\n",
    "    return np.uint8(eroded_image) * 255"
   ]
  },
  {
   "cell_type": "markdown",
   "metadata": {},
   "source": [
    "### Function for Dilation"
   ]
  },
  {
   "cell_type": "code",
   "execution_count": 4,
   "metadata": {},
   "outputs": [],
   "source": [
    "def apply_dilation_operation(image, structuring_element):\n",
    "    eroded_image = []\n",
    "    image //= 255\n",
    "    offset = structuring_element.shape[1] // 2\n",
    "    height, width = image.shape\n",
    "\n",
    "    for r in range(height):\n",
    "        nth_row = []\n",
    "        for c in range(width):\n",
    "            hit = False\n",
    "            for x in range(-offset, offset + 1):\n",
    "                for y in range(-offset, offset + 1):\n",
    "                    if (r + x >= 0 and r + x < height and c + y >= 0 and c + y < width):\n",
    "                        if (structuring_element[x, y] == 1 and image[r + x, c + y] == structuring_element[x, y]):\n",
    "                            hit = True\n",
    "            pixel = 1 if hit else 0\n",
    "            nth_row.append(pixel)\n",
    "        eroded_image.append(nth_row)\n",
    "\n",
    "    return np.uint8(eroded_image) * 255"
   ]
  }
 ],
 "metadata": {
  "kernelspec": {
   "display_name": "Python 3",
   "language": "python",
   "name": "python3"
  },
  "language_info": {
   "codemirror_mode": {
    "name": "ipython",
    "version": 3
   },
   "file_extension": ".py",
   "mimetype": "text/x-python",
   "name": "python",
   "nbconvert_exporter": "python",
   "pygments_lexer": "ipython3",
   "version": "3.9.13"
  }
 },
 "nbformat": 4,
 "nbformat_minor": 2
}
